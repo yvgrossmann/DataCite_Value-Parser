{
 "cells": [
  {
   "cell_type": "code",
   "execution_count": 1,
   "id": "ee929161-1b4b-47f1-8b13-6640ad6f48e4",
   "metadata": {},
   "outputs": [],
   "source": [
    "# import libraries for json import \n",
    "import json\n",
    "import urllib.request, json \n",
    "\n",
    "# import json for visualiziation\n",
    "import pandas as pd\n",
    "from pandas.io.json import json_normalize\n",
    "\n",
    "# import Matpltlib for data visualisation\n",
    "import matplotlib.pyplot as plt\n",
    "\n",
    "# import Numpy for data handling\n",
    "import numpy as np"
   ]
  },
  {
   "cell_type": "markdown",
   "id": "bb5b0d72-50ab-47fd-8209-99356d96af44",
   "metadata": {
    "tags": []
   },
   "source": [
    "# Get Metadata from DataCite REST API"
   ]
  },
  {
   "cell_type": "code",
   "execution_count": 2,
   "id": "4fc9af36-be55-46a4-b6e9-2a7584e06923",
   "metadata": {},
   "outputs": [],
   "source": [
    "\n",
    "# connect to DataCite REST API and get items with own search query, e.g. query=Max%20Planck&page[size]=1000'\n",
    "with urllib.request.urlopen('https://api.datacite.org/dois?query=Ilia%20State%20University&page[size]=5000') as url:\n",
    "    \n",
    "# create a json file out of API call\n",
    "    DataCite = json.load(url)\n",
    "\n",
    "# create and open a new json file    \n",
    "with open('DataCite_Raw_Metadata.json', 'w') as f:\n",
    "    # write results in json file\n",
    "    json.dump(DataCite, f)\n",
    "\n",
    "# load to normalize json file\n",
    "data = json.load(open('DataCite_Raw_Metadata.json'))\n",
    "\n",
    "# load to normalize json file\n",
    "data_normalized = pd.json_normalize(data,'data')\n"
   ]
  },
  {
   "cell_type": "markdown",
   "id": "9ada51f1-1459-4ce6-abe6-df9f75702fe0",
   "metadata": {},
   "source": [
    "## Create Pandas Dataframe as Preview"
   ]
  },
  {
   "cell_type": "code",
   "execution_count": 3,
   "id": "713d9258-494f-416c-aaed-9f63cd9624f7",
   "metadata": {},
   "outputs": [
    {
     "data": {
      "text/html": [
       "<div>\n",
       "<style scoped>\n",
       "    .dataframe tbody tr th:only-of-type {\n",
       "        vertical-align: middle;\n",
       "    }\n",
       "\n",
       "    .dataframe tbody tr th {\n",
       "        vertical-align: top;\n",
       "    }\n",
       "\n",
       "    .dataframe thead th {\n",
       "        text-align: right;\n",
       "    }\n",
       "</style>\n",
       "<table border=\"1\" class=\"dataframe\">\n",
       "  <thead>\n",
       "    <tr style=\"text-align: right;\">\n",
       "      <th></th>\n",
       "      <th>id</th>\n",
       "      <th>type</th>\n",
       "      <th>attributes.doi</th>\n",
       "      <th>attributes.identifiers</th>\n",
       "      <th>attributes.creators</th>\n",
       "      <th>attributes.titles</th>\n",
       "      <th>attributes.publisher</th>\n",
       "      <th>attributes.publicationYear</th>\n",
       "      <th>attributes.subjects</th>\n",
       "      <th>attributes.contributors</th>\n",
       "      <th>...</th>\n",
       "      <th>attributes.versionOfCount</th>\n",
       "      <th>attributes.created</th>\n",
       "      <th>attributes.registered</th>\n",
       "      <th>attributes.published</th>\n",
       "      <th>attributes.updated</th>\n",
       "      <th>relationships.client.data.id</th>\n",
       "      <th>relationships.client.data.type</th>\n",
       "      <th>attributes.container.type</th>\n",
       "      <th>attributes.container.identifier</th>\n",
       "      <th>attributes.container.identifierType</th>\n",
       "    </tr>\n",
       "  </thead>\n",
       "  <tbody>\n",
       "    <tr>\n",
       "      <th>0</th>\n",
       "      <td>10.5281/zenodo.7223794</td>\n",
       "      <td>dois</td>\n",
       "      <td>10.5281/zenodo.7223794</td>\n",
       "      <td>[{'identifier': 'https://zenodo.org/record/722...</td>\n",
       "      <td>[{'name': 'Grossmann, Yves Vincent', 'givenNam...</td>\n",
       "      <td>[{'title': 'Research Data Policies – A Short O...</td>\n",
       "      <td>Zenodo</td>\n",
       "      <td>2022</td>\n",
       "      <td>[{'subject': 'ISUBII22'}, {'subject': 'Ilia St...</td>\n",
       "      <td>[]</td>\n",
       "      <td>...</td>\n",
       "      <td>0</td>\n",
       "      <td>2022-10-26T12:15:33Z</td>\n",
       "      <td>2022-10-26T12:15:34Z</td>\n",
       "      <td>None</td>\n",
       "      <td>2022-10-26T12:15:34Z</td>\n",
       "      <td>cern.zenodo</td>\n",
       "      <td>clients</td>\n",
       "      <td>NaN</td>\n",
       "      <td>NaN</td>\n",
       "      <td>NaN</td>\n",
       "    </tr>\n",
       "    <tr>\n",
       "      <th>1</th>\n",
       "      <td>10.5281/zenodo.7223795</td>\n",
       "      <td>dois</td>\n",
       "      <td>10.5281/zenodo.7223795</td>\n",
       "      <td>[]</td>\n",
       "      <td>[{'name': 'Grossmann, Yves Vincent', 'givenNam...</td>\n",
       "      <td>[{'title': 'Research Data Policies – A Short O...</td>\n",
       "      <td>Zenodo</td>\n",
       "      <td>2022</td>\n",
       "      <td>[{'subject': 'ISUBII22'}, {'subject': 'Ilia St...</td>\n",
       "      <td>[]</td>\n",
       "      <td>...</td>\n",
       "      <td>0</td>\n",
       "      <td>2022-10-26T12:15:32Z</td>\n",
       "      <td>2022-10-26T12:15:33Z</td>\n",
       "      <td>None</td>\n",
       "      <td>2022-10-26T12:15:33Z</td>\n",
       "      <td>cern.zenodo</td>\n",
       "      <td>clients</td>\n",
       "      <td>NaN</td>\n",
       "      <td>NaN</td>\n",
       "      <td>NaN</td>\n",
       "    </tr>\n",
       "    <tr>\n",
       "      <th>2</th>\n",
       "      <td>10.5281/zenodo.7243699</td>\n",
       "      <td>dois</td>\n",
       "      <td>10.5281/zenodo.7243699</td>\n",
       "      <td>[{'identifier': 'https://zenodo.org/record/724...</td>\n",
       "      <td>[{'name': 'Grossmann, Yves Vincent', 'givenNam...</td>\n",
       "      <td>[{'title': 'DataCite ROR Parser'}]</td>\n",
       "      <td>Zenodo</td>\n",
       "      <td>2022</td>\n",
       "      <td>[{'subject': 'ISUBII22'}, {'subject': 'Python'...</td>\n",
       "      <td>[]</td>\n",
       "      <td>...</td>\n",
       "      <td>0</td>\n",
       "      <td>2022-10-24T08:08:18Z</td>\n",
       "      <td>2022-10-24T08:08:19Z</td>\n",
       "      <td>None</td>\n",
       "      <td>2022-10-26T06:40:27Z</td>\n",
       "      <td>cern.zenodo</td>\n",
       "      <td>clients</td>\n",
       "      <td>NaN</td>\n",
       "      <td>NaN</td>\n",
       "      <td>NaN</td>\n",
       "    </tr>\n",
       "    <tr>\n",
       "      <th>3</th>\n",
       "      <td>10.5281/zenodo.7243700</td>\n",
       "      <td>dois</td>\n",
       "      <td>10.5281/zenodo.7243700</td>\n",
       "      <td>[]</td>\n",
       "      <td>[{'name': 'Grossmann, Yves Vincent', 'givenNam...</td>\n",
       "      <td>[{'title': 'DataCite ROR Parser'}]</td>\n",
       "      <td>Zenodo</td>\n",
       "      <td>2022</td>\n",
       "      <td>[{'subject': 'ISUBII22'}, {'subject': 'Python'...</td>\n",
       "      <td>[]</td>\n",
       "      <td>...</td>\n",
       "      <td>0</td>\n",
       "      <td>2022-10-24T08:08:17Z</td>\n",
       "      <td>2022-10-24T08:08:18Z</td>\n",
       "      <td>None</td>\n",
       "      <td>2022-10-26T06:40:26Z</td>\n",
       "      <td>cern.zenodo</td>\n",
       "      <td>clients</td>\n",
       "      <td>NaN</td>\n",
       "      <td>NaN</td>\n",
       "      <td>NaN</td>\n",
       "    </tr>\n",
       "    <tr>\n",
       "      <th>4</th>\n",
       "      <td>10.5281/zenodo.7225465</td>\n",
       "      <td>dois</td>\n",
       "      <td>10.5281/zenodo.7225465</td>\n",
       "      <td>[{'identifier': 'https://zenodo.org/record/722...</td>\n",
       "      <td>[{'name': 'Grossmann, Yves Vincent', 'givenNam...</td>\n",
       "      <td>[{'title': 'Research Data Management – A Short...</td>\n",
       "      <td>Zenodo</td>\n",
       "      <td>2022</td>\n",
       "      <td>[{'subject': 'ISUBII22'}, {'subject': 'Ilia St...</td>\n",
       "      <td>[]</td>\n",
       "      <td>...</td>\n",
       "      <td>0</td>\n",
       "      <td>2022-10-25T07:15:22Z</td>\n",
       "      <td>2022-10-25T07:15:22Z</td>\n",
       "      <td>None</td>\n",
       "      <td>2022-10-25T07:15:22Z</td>\n",
       "      <td>cern.zenodo</td>\n",
       "      <td>clients</td>\n",
       "      <td>NaN</td>\n",
       "      <td>NaN</td>\n",
       "      <td>NaN</td>\n",
       "    </tr>\n",
       "    <tr>\n",
       "      <th>...</th>\n",
       "      <td>...</td>\n",
       "      <td>...</td>\n",
       "      <td>...</td>\n",
       "      <td>...</td>\n",
       "      <td>...</td>\n",
       "      <td>...</td>\n",
       "      <td>...</td>\n",
       "      <td>...</td>\n",
       "      <td>...</td>\n",
       "      <td>...</td>\n",
       "      <td>...</td>\n",
       "      <td>...</td>\n",
       "      <td>...</td>\n",
       "      <td>...</td>\n",
       "      <td>...</td>\n",
       "      <td>...</td>\n",
       "      <td>...</td>\n",
       "      <td>...</td>\n",
       "      <td>...</td>\n",
       "      <td>...</td>\n",
       "      <td>...</td>\n",
       "    </tr>\n",
       "    <tr>\n",
       "      <th>97</th>\n",
       "      <td>10.13140/rg.2.1.3170.7766</td>\n",
       "      <td>dois</td>\n",
       "      <td>10.13140/rg.2.1.3170.7766</td>\n",
       "      <td>[{'identifier': 'https://doi.org/10.13140/rg.2...</td>\n",
       "      <td>[{'name': 'Tumanishvili, George G.', 'nameType...</td>\n",
       "      <td>[{'title': 'ხელშეკრულების შედგენის ტექნიკა და ...</td>\n",
       "      <td>ILIA STATE UNIVERSITY PRESS</td>\n",
       "      <td>2012</td>\n",
       "      <td>[]</td>\n",
       "      <td>[]</td>\n",
       "      <td>...</td>\n",
       "      <td>0</td>\n",
       "      <td>2016-06-26T21:47:27Z</td>\n",
       "      <td>2016-06-26T21:47:28Z</td>\n",
       "      <td>None</td>\n",
       "      <td>2020-06-29T13:28:40Z</td>\n",
       "      <td>rg.rg</td>\n",
       "      <td>clients</td>\n",
       "      <td>NaN</td>\n",
       "      <td>NaN</td>\n",
       "      <td>NaN</td>\n",
       "    </tr>\n",
       "    <tr>\n",
       "      <th>98</th>\n",
       "      <td>10.13140/rg.2.1.1126.8720</td>\n",
       "      <td>dois</td>\n",
       "      <td>10.13140/rg.2.1.1126.8720</td>\n",
       "      <td>[{'identifier': 'https://doi.org/10.13140/rg.2...</td>\n",
       "      <td>[{'name': 'Tumanishvili, George G.', 'nameType...</td>\n",
       "      <td>[{'title': 'სამართლის პროფესიები'}]</td>\n",
       "      <td>ILIA STATE UNIVERSITY PRESS</td>\n",
       "      <td>2009</td>\n",
       "      <td>[]</td>\n",
       "      <td>[]</td>\n",
       "      <td>...</td>\n",
       "      <td>0</td>\n",
       "      <td>2016-06-26T17:15:55Z</td>\n",
       "      <td>2016-06-26T17:15:56Z</td>\n",
       "      <td>None</td>\n",
       "      <td>2020-06-29T13:28:40Z</td>\n",
       "      <td>rg.rg</td>\n",
       "      <td>clients</td>\n",
       "      <td>NaN</td>\n",
       "      <td>NaN</td>\n",
       "      <td>NaN</td>\n",
       "    </tr>\n",
       "    <tr>\n",
       "      <th>99</th>\n",
       "      <td>10.13140/rg.2.1.3944.9206</td>\n",
       "      <td>dois</td>\n",
       "      <td>10.13140/rg.2.1.3944.9206</td>\n",
       "      <td>[{'identifier': 'https://doi.org/10.13140/rg.2...</td>\n",
       "      <td>[{'name': 'Godoladze, Karlo', 'nameType': 'Per...</td>\n",
       "      <td>[{'title': 'საკონსტიტუციო ცვლილებები საქართველ...</td>\n",
       "      <td>ილიას სახელმწიფო უნივერსიტეტის გამომცემლობა, I...</td>\n",
       "      <td>2013</td>\n",
       "      <td>[]</td>\n",
       "      <td>[]</td>\n",
       "      <td>...</td>\n",
       "      <td>0</td>\n",
       "      <td>2016-06-26T16:37:37Z</td>\n",
       "      <td>2016-06-26T16:37:38Z</td>\n",
       "      <td>None</td>\n",
       "      <td>2020-06-29T13:28:40Z</td>\n",
       "      <td>rg.rg</td>\n",
       "      <td>clients</td>\n",
       "      <td>NaN</td>\n",
       "      <td>NaN</td>\n",
       "      <td>NaN</td>\n",
       "    </tr>\n",
       "    <tr>\n",
       "      <th>100</th>\n",
       "      <td>10.13140/rg.2.1.5071.3209</td>\n",
       "      <td>dois</td>\n",
       "      <td>10.13140/rg.2.1.5071.3209</td>\n",
       "      <td>[{'identifier': 'https://doi.org/10.13140/rg.2...</td>\n",
       "      <td>[{'name': 'Tumanishvili, George G.', 'nameType...</td>\n",
       "      <td>[{'title': 'საკუთრება, როგორც მოთხოვნის უზრუნვ...</td>\n",
       "      <td>ILIA STATE UNIVERSITY PRESS</td>\n",
       "      <td>2012</td>\n",
       "      <td>[]</td>\n",
       "      <td>[]</td>\n",
       "      <td>...</td>\n",
       "      <td>0</td>\n",
       "      <td>2016-06-26T21:41:26Z</td>\n",
       "      <td>2016-06-26T21:41:27Z</td>\n",
       "      <td>None</td>\n",
       "      <td>2020-06-29T13:28:40Z</td>\n",
       "      <td>rg.rg</td>\n",
       "      <td>clients</td>\n",
       "      <td>NaN</td>\n",
       "      <td>NaN</td>\n",
       "      <td>NaN</td>\n",
       "    </tr>\n",
       "    <tr>\n",
       "      <th>101</th>\n",
       "      <td>10.15468/dl.77nmev</td>\n",
       "      <td>dois</td>\n",
       "      <td>10.15468/dl.77nmev</td>\n",
       "      <td>[]</td>\n",
       "      <td>[{'name': 'Occdownload Gbif.Org', 'nameType': ...</td>\n",
       "      <td>[{'title': 'Occurrence Download'}]</td>\n",
       "      <td>The Global Biodiversity Information Facility</td>\n",
       "      <td>2020</td>\n",
       "      <td>[{'lang': 'eng', 'subject': 'GBIF'}, {'lang': ...</td>\n",
       "      <td>[]</td>\n",
       "      <td>...</td>\n",
       "      <td>0</td>\n",
       "      <td>2020-06-11T20:24:17Z</td>\n",
       "      <td>2020-06-11T20:24:17Z</td>\n",
       "      <td>None</td>\n",
       "      <td>2020-06-11T20:24:18Z</td>\n",
       "      <td>gbif.gbif</td>\n",
       "      <td>clients</td>\n",
       "      <td>NaN</td>\n",
       "      <td>NaN</td>\n",
       "      <td>NaN</td>\n",
       "    </tr>\n",
       "  </tbody>\n",
       "</table>\n",
       "<p>102 rows × 51 columns</p>\n",
       "</div>"
      ],
      "text/plain": [
       "                            id  type             attributes.doi  \\\n",
       "0       10.5281/zenodo.7223794  dois     10.5281/zenodo.7223794   \n",
       "1       10.5281/zenodo.7223795  dois     10.5281/zenodo.7223795   \n",
       "2       10.5281/zenodo.7243699  dois     10.5281/zenodo.7243699   \n",
       "3       10.5281/zenodo.7243700  dois     10.5281/zenodo.7243700   \n",
       "4       10.5281/zenodo.7225465  dois     10.5281/zenodo.7225465   \n",
       "..                         ...   ...                        ...   \n",
       "97   10.13140/rg.2.1.3170.7766  dois  10.13140/rg.2.1.3170.7766   \n",
       "98   10.13140/rg.2.1.1126.8720  dois  10.13140/rg.2.1.1126.8720   \n",
       "99   10.13140/rg.2.1.3944.9206  dois  10.13140/rg.2.1.3944.9206   \n",
       "100  10.13140/rg.2.1.5071.3209  dois  10.13140/rg.2.1.5071.3209   \n",
       "101         10.15468/dl.77nmev  dois         10.15468/dl.77nmev   \n",
       "\n",
       "                                attributes.identifiers  \\\n",
       "0    [{'identifier': 'https://zenodo.org/record/722...   \n",
       "1                                                   []   \n",
       "2    [{'identifier': 'https://zenodo.org/record/724...   \n",
       "3                                                   []   \n",
       "4    [{'identifier': 'https://zenodo.org/record/722...   \n",
       "..                                                 ...   \n",
       "97   [{'identifier': 'https://doi.org/10.13140/rg.2...   \n",
       "98   [{'identifier': 'https://doi.org/10.13140/rg.2...   \n",
       "99   [{'identifier': 'https://doi.org/10.13140/rg.2...   \n",
       "100  [{'identifier': 'https://doi.org/10.13140/rg.2...   \n",
       "101                                                 []   \n",
       "\n",
       "                                   attributes.creators  \\\n",
       "0    [{'name': 'Grossmann, Yves Vincent', 'givenNam...   \n",
       "1    [{'name': 'Grossmann, Yves Vincent', 'givenNam...   \n",
       "2    [{'name': 'Grossmann, Yves Vincent', 'givenNam...   \n",
       "3    [{'name': 'Grossmann, Yves Vincent', 'givenNam...   \n",
       "4    [{'name': 'Grossmann, Yves Vincent', 'givenNam...   \n",
       "..                                                 ...   \n",
       "97   [{'name': 'Tumanishvili, George G.', 'nameType...   \n",
       "98   [{'name': 'Tumanishvili, George G.', 'nameType...   \n",
       "99   [{'name': 'Godoladze, Karlo', 'nameType': 'Per...   \n",
       "100  [{'name': 'Tumanishvili, George G.', 'nameType...   \n",
       "101  [{'name': 'Occdownload Gbif.Org', 'nameType': ...   \n",
       "\n",
       "                                     attributes.titles  \\\n",
       "0    [{'title': 'Research Data Policies – A Short O...   \n",
       "1    [{'title': 'Research Data Policies – A Short O...   \n",
       "2                   [{'title': 'DataCite ROR Parser'}]   \n",
       "3                   [{'title': 'DataCite ROR Parser'}]   \n",
       "4    [{'title': 'Research Data Management – A Short...   \n",
       "..                                                 ...   \n",
       "97   [{'title': 'ხელშეკრულების შედგენის ტექნიკა და ...   \n",
       "98                 [{'title': 'სამართლის პროფესიები'}]   \n",
       "99   [{'title': 'საკონსტიტუციო ცვლილებები საქართველ...   \n",
       "100  [{'title': 'საკუთრება, როგორც მოთხოვნის უზრუნვ...   \n",
       "101                 [{'title': 'Occurrence Download'}]   \n",
       "\n",
       "                                  attributes.publisher  \\\n",
       "0                                               Zenodo   \n",
       "1                                               Zenodo   \n",
       "2                                               Zenodo   \n",
       "3                                               Zenodo   \n",
       "4                                               Zenodo   \n",
       "..                                                 ...   \n",
       "97                         ILIA STATE UNIVERSITY PRESS   \n",
       "98                         ILIA STATE UNIVERSITY PRESS   \n",
       "99   ილიას სახელმწიფო უნივერსიტეტის გამომცემლობა, I...   \n",
       "100                        ILIA STATE UNIVERSITY PRESS   \n",
       "101       The Global Biodiversity Information Facility   \n",
       "\n",
       "     attributes.publicationYear  \\\n",
       "0                          2022   \n",
       "1                          2022   \n",
       "2                          2022   \n",
       "3                          2022   \n",
       "4                          2022   \n",
       "..                          ...   \n",
       "97                         2012   \n",
       "98                         2009   \n",
       "99                         2013   \n",
       "100                        2012   \n",
       "101                        2020   \n",
       "\n",
       "                                   attributes.subjects  \\\n",
       "0    [{'subject': 'ISUBII22'}, {'subject': 'Ilia St...   \n",
       "1    [{'subject': 'ISUBII22'}, {'subject': 'Ilia St...   \n",
       "2    [{'subject': 'ISUBII22'}, {'subject': 'Python'...   \n",
       "3    [{'subject': 'ISUBII22'}, {'subject': 'Python'...   \n",
       "4    [{'subject': 'ISUBII22'}, {'subject': 'Ilia St...   \n",
       "..                                                 ...   \n",
       "97                                                  []   \n",
       "98                                                  []   \n",
       "99                                                  []   \n",
       "100                                                 []   \n",
       "101  [{'lang': 'eng', 'subject': 'GBIF'}, {'lang': ...   \n",
       "\n",
       "    attributes.contributors  ... attributes.versionOfCount  \\\n",
       "0                        []  ...                         0   \n",
       "1                        []  ...                         0   \n",
       "2                        []  ...                         0   \n",
       "3                        []  ...                         0   \n",
       "4                        []  ...                         0   \n",
       "..                      ...  ...                       ...   \n",
       "97                       []  ...                         0   \n",
       "98                       []  ...                         0   \n",
       "99                       []  ...                         0   \n",
       "100                      []  ...                         0   \n",
       "101                      []  ...                         0   \n",
       "\n",
       "       attributes.created attributes.registered attributes.published  \\\n",
       "0    2022-10-26T12:15:33Z  2022-10-26T12:15:34Z                 None   \n",
       "1    2022-10-26T12:15:32Z  2022-10-26T12:15:33Z                 None   \n",
       "2    2022-10-24T08:08:18Z  2022-10-24T08:08:19Z                 None   \n",
       "3    2022-10-24T08:08:17Z  2022-10-24T08:08:18Z                 None   \n",
       "4    2022-10-25T07:15:22Z  2022-10-25T07:15:22Z                 None   \n",
       "..                    ...                   ...                  ...   \n",
       "97   2016-06-26T21:47:27Z  2016-06-26T21:47:28Z                 None   \n",
       "98   2016-06-26T17:15:55Z  2016-06-26T17:15:56Z                 None   \n",
       "99   2016-06-26T16:37:37Z  2016-06-26T16:37:38Z                 None   \n",
       "100  2016-06-26T21:41:26Z  2016-06-26T21:41:27Z                 None   \n",
       "101  2020-06-11T20:24:17Z  2020-06-11T20:24:17Z                 None   \n",
       "\n",
       "       attributes.updated relationships.client.data.id  \\\n",
       "0    2022-10-26T12:15:34Z                  cern.zenodo   \n",
       "1    2022-10-26T12:15:33Z                  cern.zenodo   \n",
       "2    2022-10-26T06:40:27Z                  cern.zenodo   \n",
       "3    2022-10-26T06:40:26Z                  cern.zenodo   \n",
       "4    2022-10-25T07:15:22Z                  cern.zenodo   \n",
       "..                    ...                          ...   \n",
       "97   2020-06-29T13:28:40Z                        rg.rg   \n",
       "98   2020-06-29T13:28:40Z                        rg.rg   \n",
       "99   2020-06-29T13:28:40Z                        rg.rg   \n",
       "100  2020-06-29T13:28:40Z                        rg.rg   \n",
       "101  2020-06-11T20:24:18Z                    gbif.gbif   \n",
       "\n",
       "    relationships.client.data.type attributes.container.type  \\\n",
       "0                          clients                       NaN   \n",
       "1                          clients                       NaN   \n",
       "2                          clients                       NaN   \n",
       "3                          clients                       NaN   \n",
       "4                          clients                       NaN   \n",
       "..                             ...                       ...   \n",
       "97                         clients                       NaN   \n",
       "98                         clients                       NaN   \n",
       "99                         clients                       NaN   \n",
       "100                        clients                       NaN   \n",
       "101                        clients                       NaN   \n",
       "\n",
       "    attributes.container.identifier attributes.container.identifierType  \n",
       "0                               NaN                                 NaN  \n",
       "1                               NaN                                 NaN  \n",
       "2                               NaN                                 NaN  \n",
       "3                               NaN                                 NaN  \n",
       "4                               NaN                                 NaN  \n",
       "..                              ...                                 ...  \n",
       "97                              NaN                                 NaN  \n",
       "98                              NaN                                 NaN  \n",
       "99                              NaN                                 NaN  \n",
       "100                             NaN                                 NaN  \n",
       "101                             NaN                                 NaN  \n",
       "\n",
       "[102 rows x 51 columns]"
      ]
     },
     "metadata": {},
     "output_type": "display_data"
    }
   ],
   "source": [
    "# create Pandas dataframe\n",
    "df = pd.DataFrame(data_normalized)\n",
    "\n",
    "# display Pandas dataframe as table\n",
    "display(df)"
   ]
  },
  {
   "cell_type": "markdown",
   "id": "e39a9bf2-1cb7-49e1-ab27-1ce06f4f027f",
   "metadata": {},
   "source": [
    "## Create csv File for Raw Data Export"
   ]
  },
  {
   "cell_type": "code",
   "execution_count": 4,
   "id": "a36d7640-743f-43a7-b0a7-3e07d5e06747",
   "metadata": {},
   "outputs": [],
   "source": [
    "#create csv file\n",
    "df.to_csv('DataCite_Raw_Metadata.csv')"
   ]
  },
  {
   "cell_type": "markdown",
   "id": "87913507-4eb4-459f-a6e5-49c0b954615c",
   "metadata": {},
   "source": [
    "# Count Attributes in Pandas Dataframe"
   ]
  },
  {
   "cell_type": "markdown",
   "id": "35b38915-969f-4e19-af21-5045ecc54862",
   "metadata": {},
   "source": [
    "## Count all attributes in Pandas dataframe"
   ]
  },
  {
   "cell_type": "code",
   "execution_count": 5,
   "id": "683392be-bd5f-49ea-a68e-9e78f78c30bb",
   "metadata": {},
   "outputs": [
    {
     "name": "stdout",
     "output_type": "stream",
     "text": [
      "id                                      102\n",
      "type                                    102\n",
      "attributes.doi                          102\n",
      "attributes.identifiers                  102\n",
      "attributes.creators                     102\n",
      "attributes.titles                       102\n",
      "attributes.publisher                    102\n",
      "attributes.publicationYear              102\n",
      "attributes.subjects                     102\n",
      "attributes.contributors                 102\n",
      "attributes.dates                        102\n",
      "attributes.language                      26\n",
      "attributes.types.ris                    102\n",
      "attributes.types.bibtex                 102\n",
      "attributes.types.citeproc               102\n",
      "attributes.types.schemaOrg              102\n",
      "attributes.types.resourceType            51\n",
      "attributes.types.resourceTypeGeneral    102\n",
      "attributes.relatedIdentifiers           102\n",
      "attributes.sizes                        102\n",
      "attributes.formats                      102\n",
      "attributes.version                        4\n",
      "attributes.rightsList                   102\n",
      "attributes.descriptions                 102\n",
      "attributes.geoLocations                 102\n",
      "attributes.fundingReferences            102\n",
      "attributes.url                          102\n",
      "attributes.contentUrl                     0\n",
      "attributes.metadataVersion              102\n",
      "attributes.schemaVersion                 90\n",
      "attributes.source                        93\n",
      "attributes.isActive                     102\n",
      "attributes.state                        102\n",
      "attributes.reason                         0\n",
      "attributes.viewCount                    102\n",
      "attributes.downloadCount                102\n",
      "attributes.referenceCount               102\n",
      "attributes.citationCount                102\n",
      "attributes.partCount                    102\n",
      "attributes.partOfCount                  102\n",
      "attributes.versionCount                 102\n",
      "attributes.versionOfCount               102\n",
      "attributes.created                      102\n",
      "attributes.registered                   102\n",
      "attributes.published                      0\n",
      "attributes.updated                      102\n",
      "relationships.client.data.id            102\n",
      "relationships.client.data.type          102\n",
      "attributes.container.type                29\n",
      "attributes.container.identifier          29\n",
      "attributes.container.identifierType      29\n",
      "dtype: int64\n"
     ]
    }
   ],
   "source": [
    "# count all attributes in Pandas dataframe\n",
    "print(df.count())\n",
    "\n",
    "# create csv file of the count\n",
    "df.to_csv('DataCite-Data_Count_All_Attributes.csv')"
   ]
  },
  {
   "cell_type": "markdown",
   "id": "23b5e48a-f7c8-478b-b3cd-f270a470cf41",
   "metadata": {},
   "source": [
    "## Give List of DOIs"
   ]
  },
  {
   "cell_type": "code",
   "execution_count": 6,
   "id": "32d77370-df22-4605-bab4-ebbf4f1cd8fa",
   "metadata": {},
   "outputs": [
    {
     "name": "stdout",
     "output_type": "stream",
     "text": [
      "0         10.5281/zenodo.7223794\n",
      "1         10.5281/zenodo.7223795\n",
      "2         10.5281/zenodo.7243699\n",
      "3         10.5281/zenodo.7243700\n",
      "4         10.5281/zenodo.7225465\n",
      "                 ...            \n",
      "97     10.13140/rg.2.1.3170.7766\n",
      "98     10.13140/rg.2.1.1126.8720\n",
      "99     10.13140/rg.2.1.3944.9206\n",
      "100    10.13140/rg.2.1.5071.3209\n",
      "101           10.15468/dl.77nmev\n",
      "Name: attributes.doi, Length: 102, dtype: object\n"
     ]
    }
   ],
   "source": [
    "# create values with all DOIs\n",
    "df_DOI = df['attributes.doi']\n",
    "\n",
    "# give results\n",
    "print(df_DOI)\n",
    "\n",
    "# create csv file of the count\n",
    "df_DOI.to_csv('DataCite-Data_DOI-List.csv')"
   ]
  },
  {
   "cell_type": "markdown",
   "id": "3b929fa3-786c-4a84-80d0-9fbfdffc0aa3",
   "metadata": {},
   "source": [
    "## Count the Publication Types"
   ]
  },
  {
   "cell_type": "code",
   "execution_count": 7,
   "id": "d54182da-0aea-4468-b54f-0367f8584f1c",
   "metadata": {},
   "outputs": [
    {
     "name": "stdout",
     "output_type": "stream",
     "text": [
      "Count_Publication_Types\n",
      "CreativeWork           1\n",
      "SoftwareSourceCode     2\n",
      "Book                   9\n",
      "ScholarlyArticle      43\n",
      "Dataset               47\n",
      "Name: attributes.types.schemaOrg, dtype: int64\n"
     ]
    }
   ],
   "source": [
    "# count values in the column \"attributes.types.schemaOrg\" and list it\n",
    "df_pub_types = df['attributes.types.schemaOrg'].value_counts(dropna=False).rename_axis('Count_Publication_Types').sort_values(ascending=True)\n",
    "\n",
    "# give results\n",
    "print(df_pub_types)\n",
    "\n",
    "# create csv file of the count\n",
    "df_pub_types.to_csv('DataCite-Data_Publication-Types.csv')"
   ]
  },
  {
   "cell_type": "markdown",
   "id": "1ccd6fe8-477d-4ffb-bcf2-07fd21a4359a",
   "metadata": {},
   "source": [
    "## Count the Relationship Clients"
   ]
  },
  {
   "cell_type": "code",
   "execution_count": 8,
   "id": "f2c1d542-adc8-4745-a7b8-1456140734d8",
   "metadata": {},
   "outputs": [
    {
     "name": "stdout",
     "output_type": "stream",
     "text": [
      "Count_Relationship_Clients\n",
      "tib.wdcrsat         2\n",
      "gdcc.harvard-dv     5\n",
      "rg.rg              14\n",
      "gbif.gbif          40\n",
      "cern.zenodo        41\n",
      "Name: relationships.client.data.id, dtype: int64\n"
     ]
    }
   ],
   "source": [
    "# count values in the column \"relationships.client.data.id\" and list it\n",
    "df_relationship = df['relationships.client.data.id'].value_counts(dropna=False).rename_axis('Count_Relationship_Clients').sort_values(ascending=True)\n",
    "print(df_relationship)\n",
    "\n",
    "# create csv file of the count\n",
    "df_relationship.to_csv('DataCite-Data_Relationship-Clients.csv')"
   ]
  },
  {
   "cell_type": "markdown",
   "id": "21cc7315-8245-4dd7-b58e-c7df1a6f3636",
   "metadata": {},
   "source": [
    "## Count by Year"
   ]
  },
  {
   "cell_type": "code",
   "execution_count": 9,
   "id": "543a782e-811a-42c6-a0f0-5a892b9b44ab",
   "metadata": {},
   "outputs": [
    {
     "name": "stdout",
     "output_type": "stream",
     "text": [
      "Publication_Year\n",
      "2008     2\n",
      "2009     2\n",
      "2010     4\n",
      "2011     8\n",
      "2012     4\n",
      "2013     2\n",
      "2014     2\n",
      "2015     2\n",
      "2016     1\n",
      "2017     6\n",
      "2019     2\n",
      "2020    12\n",
      "2021    28\n",
      "2022    27\n",
      "Name: attributes.publicationYear, dtype: int64\n"
     ]
    }
   ],
   "source": [
    "# count values in the column \"attributes.publisher\" and list it\n",
    "df_year = df['attributes.publicationYear'].value_counts(dropna=False).rename_axis('Publication_Year')\n",
    "\n",
    "# sort values by year\n",
    "df_year = df_year.sort_index(ascending=True)\n",
    "\n",
    "# display result\n",
    "print(df_year)\n",
    "\n",
    "# create csv file of the count\n",
    "df_year.to_csv('DataCite-Data_Count_by_Year.csv')"
   ]
  },
  {
   "cell_type": "markdown",
   "id": "c1e27801-9291-42d0-9ac7-301035328238",
   "metadata": {},
   "source": [
    "## Count Publisher"
   ]
  },
  {
   "cell_type": "code",
   "execution_count": 10,
   "id": "2acdf56a-8123-443b-ae01-397fcb56aa53",
   "metadata": {},
   "outputs": [
    {
     "name": "stdout",
     "output_type": "stream",
     "text": [
      "Count_Publisher\n",
      "National Herbarium of Georgia TBI, Botanical Institute of Ilia State University                   1\n",
      "Ilia State University Institute of Addictology, Alternative Georgia Addiction Research Center     1\n",
      "ილიას სახელმწიფო უნივერსიტეტის გამომცემლობა, ILIA STATE UNIVERSITY PRESS                          1\n",
      "Ilia State University                                                                             2\n",
      "Unpublished                                                                                       2\n",
      "World Data Center for Remote Sensing of the Atmosphere (WDC-RSAT)                                 2\n",
      "Harvard Dataverse                                                                                 5\n",
      "ILIA STATE UNIVERSITY PRESS                                                                       8\n",
      "The Global Biodiversity Information Facility                                                     39\n",
      "Zenodo                                                                                           41\n",
      "Name: attributes.publisher, dtype: int64\n"
     ]
    }
   ],
   "source": [
    "# create list of counted values in the column \"attributes.publisher\"\n",
    "df_publisher = df['attributes.publisher'].value_counts(dropna=False).rename_axis('Count_Publisher').sort_values(ascending=True)\n",
    "\n",
    "# create csv file of this list\n",
    "df_publisher.to_csv('DataCite-Data_Publisher.csv')\n",
    "\n",
    "# print list of counted publisher\n",
    "print(df_publisher)"
   ]
  },
  {
   "cell_type": "markdown",
   "id": "495d85f9-da9b-460f-8084-73d05c974047",
   "metadata": {},
   "source": [
    "## Pivot by Publisher and Years"
   ]
  },
  {
   "cell_type": "code",
   "execution_count": 11,
   "id": "e5166162-3052-4d08-a2e2-b56d64ce9b18",
   "metadata": {
    "tags": []
   },
   "outputs": [],
   "source": [
    "# create table with publishers by years\n",
    "df_publisher_y = df[['attributes.publicationYear','attributes.publisher']].copy()\n",
    "\n",
    "# count the published datasets by publisher and year\n",
    "df_publisher_y['Count.Year'] = df_publisher_y.groupby(['attributes.publisher'])['attributes.publisher'].transform('count')\n",
    "\n",
    "# create Pivot table with pandas\n",
    "df_pivot = df_publisher_y.pivot_table(index='attributes.publisher', columns='attributes.publicationYear', values = 'Count.Year', aggfunc='count', fill_value = 0)\n",
    "\n",
    "# create file with pivot values\n",
    "df_pivot.to_csv('DataCite-Data_Publisher-Year-Pivot.csv')"
   ]
  },
  {
   "cell_type": "markdown",
   "id": "6ab21afd-82f9-4d72-a668-90206588e6be",
   "metadata": {},
   "source": [
    "# Visualisations"
   ]
  },
  {
   "cell_type": "markdown",
   "id": "95904fe6-099d-48e9-b6fe-aefe96b67518",
   "metadata": {},
   "source": [
    "## Graph on Publications by Year"
   ]
  },
  {
   "cell_type": "code",
   "execution_count": 12,
   "id": "38d13501-a769-46d6-af30-ff5e77fcede4",
   "metadata": {},
   "outputs": [
    {
     "data": {
      "image/png": "[encoded data removed]",
      "text/plain": [
       "<Figure size 1080x1080 with 1 Axes>"
      ]
     },
     "metadata": {
      "needs_background": "light"
     },
     "output_type": "display_data"
    }
   ],
   "source": [
    "# create plot with bar  \n",
    "ax = df_year.plot(x='attributes.publicationYear', y='Publication_Year', kind='bar', figsize = (15, 15), legend=False, rot=0)\n",
    "\n",
    "# set plot title\n",
    "plt.title('Publications by Year')\n",
    "\n",
    "# set x axis title\n",
    "plt.xlabel('Count of Publications')\n",
    "\n",
    "# set y axis title\n",
    "plt.ylabel('Publisher')\n",
    "\n",
    "# set values at the bars\n",
    "ax.bar_label(ax.containers[0], label_type='edge')\n",
    "\n",
    "# create image file of it\n",
    "plt.savefig('Publications_by_Year.jpg', bbox_inches='tight')"
   ]
  },
  {
   "cell_type": "markdown",
   "id": "b6c66925-9273-48cd-9aa2-33f548576475",
   "metadata": {},
   "source": [
    "## Graph on Relationship Clients"
   ]
  },
  {
   "cell_type": "code",
   "execution_count": 16,
   "id": "149d9f7d-aee6-4a27-b650-a854c033f065",
   "metadata": {},
   "outputs": [
    {
     "data": {
      "image/png": "[encoded data removed]",
      "text/plain": [
       "<Figure size 1080x1080 with 1 Axes>"
      ]
     },
     "metadata": {
      "needs_background": "light"
     },
     "output_type": "display_data"
    }
   ],
   "source": [
    "# create plot with crossbar\n",
    "ax = df_relationship.plot(x='relationship.client.data.id', y='Count_Relationship_Clients', kind='barh', figsize = (15, 15), legend=False, rot=0)\n",
    "\n",
    "# set plot title\n",
    "plt.title('Counts of Relationship Clients')\n",
    "\n",
    "# set x axis title\n",
    "plt.xlabel('Count of Publications')\n",
    "\n",
    "# set y axis title\n",
    "plt.ylabel('Relationship Clients')\n",
    "\n",
    "# set values at the bars\n",
    "ax.bar_label(ax.containers[0], label_type='edge')\n",
    "\n",
    "# create image file of it\n",
    "plt.savefig('Relationship_Clients.jpg', bbox_inches='tight')"
   ]
  },
  {
   "cell_type": "markdown",
   "id": "1816ed1c-5efc-4c02-950a-6a2467e3a411",
   "metadata": {},
   "source": [
    "## Graph on Publication Types"
   ]
  },
  {
   "cell_type": "code",
   "execution_count": 14,
   "id": "9c358482-71db-4c84-913e-fb996998fc88",
   "metadata": {},
   "outputs": [
    {
     "data": {
      "image/png": "[encoded data removed]",
      "text/plain": [
       "<Figure size 720x720 with 1 Axes>"
      ]
     },
     "metadata": {},
     "output_type": "display_data"
    }
   ],
   "source": [
    "# create plot with pie chart\n",
    "df_pub_types.plot.pie(autopct='%.2f', figsize = (10, 10))\n",
    "\n",
    "# set plot title\n",
    "plt.title('Count of Publication Types')\n",
    "\n",
    "# create image file of it\n",
    "plt.savefig('Publication_Types.jpg', bbox_inches='tight')"
   ]
  },
  {
   "cell_type": "markdown",
   "id": "077794ff-59fa-4779-bca1-096c5f70c1e2",
   "metadata": {},
   "source": [
    "## Graph on Publications by Publisher"
   ]
  },
  {
   "cell_type": "code",
   "execution_count": 17,
   "id": "9373e0ce-bbad-44ef-8926-7328e8142d32",
   "metadata": {},
   "outputs": [
    {
     "data": {
      "image/png": "[encoded data removed]",
      "text/plain": [
       "<Figure size 1080x1080 with 1 Axes>"
      ]
     },
     "metadata": {
      "needs_background": "light"
     },
     "output_type": "display_data"
    }
   ],
   "source": [
    "# create plot with crossbar\n",
    "ax = df_publisher.plot(x='attributes.publisher', y='Count_Publisher', kind='barh', figsize = (15,15), legend=False, rot=0)\n",
    "\n",
    "# set plot title\n",
    "plt.title('Total Publications by Publishers')\n",
    "\n",
    "# set x axis title\n",
    "plt.xlabel('Count of Publications')\n",
    "\n",
    "# set y axis title\n",
    "plt.ylabel('Publisher')\n",
    "\n",
    "# set values at the bars\n",
    "ax.bar_label(ax.containers[0], label_type='edge')\n",
    "\n",
    "# create image file of it\n",
    "plt.savefig('Publications_by_Publisher.jpg', bbox_inches='tight')"
   ]
  }
 ],
 "metadata": {
  "kernelspec": {
   "display_name": "Python 3 (ipykernel)",
   "language": "python",
   "name": "python3"
  },
  "language_info": {
   "codemirror_mode": {
    "name": "ipython",
    "version": 3
   },
   "file_extension": ".py",
   "mimetype": "text/x-python",
   "name": "python",
   "nbconvert_exporter": "python",
   "pygments_lexer": "ipython3",
   "version": "3.10.5"
  },
  "toc-autonumbering": true,
  "toc-showcode": false,
  "toc-showmarkdowntxt": false,
  "toc-showtags": false
 },
 "nbformat": 4,
 "nbformat_minor": 5
}
